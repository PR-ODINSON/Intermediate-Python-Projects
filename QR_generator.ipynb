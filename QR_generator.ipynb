{
 "cells": [
  {
   "cell_type": "code",
   "execution_count": 1,
   "id": "65d95442",
   "metadata": {},
   "outputs": [],
   "source": [
    "import qrcode\n",
    "from tkinter import *\n",
    "from tkinter import messagebox\n",
    "from PIL import Image, ImageTk\n",
    "\n",
    "\n",
    "# Function to generate QR Code\n",
    "def generate_qr():\n",
    "    data = entry_data.get()\n",
    "    if not data:\n",
    "        messagebox.showerror(\"Error\", \"Please enter data to generate QR code.\")\n",
    "        return\n",
    "\n",
    "    qr = qrcode.QRCode(\n",
    "        version=1,  # controls the size of the QR Code, with version 1 being the smallest\n",
    "        error_correction=qrcode.constants.ERROR_CORRECT_H,\n",
    "        box_size=10,\n",
    "        border=4,\n",
    "    )\n",
    "    qr.add_data(data)\n",
    "    qr.make(fit=True)\n",
    "\n",
    "    img = qr.make_image(fill_color=\"black\", back_color=\"white\")\n",
    "    img.save(\"qrcode.png\")\n",
    "\n",
    "    # Display the QR Code in the app\n",
    "    img_tk = ImageTk.PhotoImage(Image.open(\"qrcode.png\"))\n",
    "    qr_label.config(image=img_tk)\n",
    "    qr_label.image = img_tk\n",
    "    messagebox.showinfo(\"Success\", \"QR Code generated and saved as 'qrcode.png'\")\n",
    "\n",
    "\n",
    "# GUI setup\n",
    "root = Tk()\n",
    "root.title(\"QR Code Generator\")\n",
    "\n",
    "# Input label and entry\n",
    "Label(root, text=\"Enter Data for QR Code:\", font=(\"Arial\", 14)).pack(pady=10)\n",
    "entry_data = Entry(root, font=(\"Arial\", 14), width=30)\n",
    "entry_data.pack(pady=10)\n",
    "\n",
    "# Generate button\n",
    "Button(root, text=\"Generate QR Code\", font=(\"Arial\", 14), command=generate_qr).pack(pady=10)\n",
    "\n",
    "# Placeholder for QR code display\n",
    "qr_label = Label(root)\n",
    "qr_label.pack(pady=10)\n",
    "\n",
    "root.geometry(\"400x500\")\n",
    "root.mainloop()\n"
   ]
  },
  {
   "cell_type": "code",
   "execution_count": null,
   "id": "5af1affc",
   "metadata": {},
   "outputs": [],
   "source": []
  }
 ],
 "metadata": {
  "kernelspec": {
   "display_name": "Python 3 (ipykernel)",
   "language": "python",
   "name": "python3"
  },
  "language_info": {
   "codemirror_mode": {
    "name": "ipython",
    "version": 3
   },
   "file_extension": ".py",
   "mimetype": "text/x-python",
   "name": "python",
   "nbconvert_exporter": "python",
   "pygments_lexer": "ipython3",
   "version": "3.11.4"
  }
 },
 "nbformat": 4,
 "nbformat_minor": 5
}
