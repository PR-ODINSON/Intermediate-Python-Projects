{
 "cells": [
  {
   "cell_type": "code",
   "execution_count": 4,
   "id": "649578ea",
   "metadata": {},
   "outputs": [
    {
     "name": "stdout",
     "output_type": "stream",
     "text": [
      "Defaulting to user installation because normal site-packages is not writeable\n"
     ]
    },
    {
     "name": "stderr",
     "output_type": "stream",
     "text": [
      "ERROR: Could not find a version that satisfies the requirement tkinter (from versions: none)\n",
      "ERROR: No matching distribution found for tkinter\n"
     ]
    }
   ],
   "source": [
    "!pip install tkinter"
   ]
  },
  {
   "cell_type": "code",
   "execution_count": 5,
   "id": "e47f8a46",
   "metadata": {},
   "outputs": [],
   "source": [
    "import tkinter as tk\n",
    "from tkinter import messagebox\n",
    "import math\n",
    "\n",
    "# Function definitions\n",
    "def click(button_text):\n",
    "    \"\"\"Handle button clicks.\"\"\"\n",
    "    if button_text == \"=\":\n",
    "        try:\n",
    "            expression = display.get()\n",
    "            result = eval(expression)\n",
    "            display.delete(0, tk.END)\n",
    "            display.insert(tk.END, str(result))\n",
    "        except Exception as e:\n",
    "            messagebox.showerror(\"Error\", \"Invalid Expression\")\n",
    "    elif button_text == \"C\":\n",
    "        display.delete(0, tk.END)\n",
    "    elif button_text == \"←\":\n",
    "        current_text = display.get()\n",
    "        display.delete(0, tk.END)\n",
    "        display.insert(tk.END, current_text[:-1])\n",
    "    elif button_text in [\"sin\", \"cos\", \"tan\", \"log\", \"ln\", \"sqrt\"]:\n",
    "        try:\n",
    "            expression = display.get()\n",
    "            value = float(expression)\n",
    "            if button_text == \"sin\":\n",
    "                result = math.sin(math.radians(value))\n",
    "            elif button_text == \"cos\":\n",
    "                result = math.cos(math.radians(value))\n",
    "            elif button_text == \"tan\":\n",
    "                result = math.tan(math.radians(value))\n",
    "            elif button_text == \"log\":\n",
    "                result = math.log10(value)\n",
    "            elif button_text == \"ln\":\n",
    "                result = math.log(value)\n",
    "            elif button_text == \"sqrt\":\n",
    "                result = math.sqrt(value)\n",
    "            display.delete(0, tk.END)\n",
    "            display.insert(tk.END, str(result))\n",
    "        except Exception as e:\n",
    "            messagebox.showerror(\"Error\", \"Invalid Input\")\n",
    "    else:\n",
    "        display.insert(tk.END, button_text)\n",
    "\n",
    "# Create the main window\n",
    "root = tk.Tk()\n",
    "root.title(\"Scientific Calculator\")\n",
    "root.geometry(\"400x600\")\n",
    "root.resizable(False, False)\n",
    "\n",
    "# Create the display\n",
    "display = tk.Entry(root, font=(\"Arial\", 20), borderwidth=5, relief=tk.RIDGE, justify=\"right\")\n",
    "display.grid(row=0, column=0, columnspan=4, ipadx=8, ipady=20, sticky=\"nsew\")\n",
    "\n",
    "# Define the calculator buttons\n",
    "buttons = [\n",
    "    (\"7\", 1, 0), (\"8\", 1, 1), (\"9\", 1, 2), (\"/\", 1, 3),\n",
    "    (\"4\", 2, 0), (\"5\", 2, 1), (\"6\", 2, 2), (\"*\", 2, 3),\n",
    "    (\"1\", 3, 0), (\"2\", 3, 1), (\"3\", 3, 2), (\"-\", 3, 3),\n",
    "    (\"0\", 4, 0), (\".\", 4, 1), (\"=\", 4, 2), (\"+\", 4, 3),\n",
    "    (\"C\", 5, 0), (\"←\", 5, 1), (\"(\", 5, 2), (\")\", 5, 3),\n",
    "    (\"sin\", 6, 0), (\"cos\", 6, 1), (\"tan\", 6, 2), (\"log\", 6, 3),\n",
    "    (\"ln\", 7, 0), (\"sqrt\", 7, 1), (\"^\", 7, 2),\n",
    "]\n",
    "\n",
    "# Add buttons to the window\n",
    "for text, row, col in buttons:\n",
    "    button = tk.Button(root, text=text, font=(\"Arial\", 18), bg=\"#f0f0f0\", fg=\"black\",\n",
    "                       command=lambda t=text: click(t), height=2, width=5)\n",
    "    button.grid(row=row, column=col, sticky=\"nsew\", padx=5, pady=5)\n",
    "\n",
    "# Adjust row and column weights for responsiveness\n",
    "for i in range(8):  # Rows\n",
    "    root.grid_rowconfigure(i, weight=1)\n",
    "for i in range(4):  # Columns\n",
    "    root.grid_columnconfigure(i, weight=1)\n",
    "\n",
    "# Start the application\n",
    "root.mainloop()\n"
   ]
  },
  {
   "cell_type": "code",
   "execution_count": 6,
   "id": "18d763ed",
   "metadata": {},
   "outputs": [],
   "source": [
    "w\n"
   ]
  },
  {
   "cell_type": "code",
   "execution_count": null,
   "id": "b8bd5800",
   "metadata": {},
   "outputs": [],
   "source": []
  }
 ],
 "metadata": {
  "kernelspec": {
   "display_name": "Python 3 (ipykernel)",
   "language": "python",
   "name": "python3"
  },
  "language_info": {
   "codemirror_mode": {
    "name": "ipython",
    "version": 3
   },
   "file_extension": ".py",
   "mimetype": "text/x-python",
   "name": "python",
   "nbconvert_exporter": "python",
   "pygments_lexer": "ipython3",
   "version": "3.11.4"
  }
 },
 "nbformat": 4,
 "nbformat_minor": 5
}
