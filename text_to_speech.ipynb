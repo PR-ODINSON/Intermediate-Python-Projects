{
 "cells": [
  {
   "cell_type": "code",
   "execution_count": 1,
   "id": "8e405887",
   "metadata": {},
   "outputs": [],
   "source": [
    "import pyttsx3\n",
    "import tkinter as tk\n",
    "from tkinter import filedialog, messagebox\n",
    "\n",
    "# Initialize the TTS engine globally\n",
    "engine = pyttsx3.init()\n",
    "\n",
    "# Set default properties\n",
    "engine.setProperty('rate', 175)  # Speed of speech\n",
    "engine.setProperty('volume', 0.9)  # Volume (0.0 to 1.0)\n",
    "\n",
    "def text_to_speech():\n",
    "    \"\"\"Convert text to speech.\"\"\"\n",
    "    text = text_input.get(\"1.0\", \"end-1c\")  # Get text from Text widget\n",
    "    if text.strip():\n",
    "        engine.say(text)\n",
    "        engine.runAndWait()\n",
    "    else:\n",
    "        messagebox.showerror(\"Error\", \"Text box is empty. Please enter some text.\")\n",
    "\n",
    "def save_audio():\n",
    "    \"\"\"Save the text as an audio file.\"\"\"\n",
    "    text = text_input.get(\"1.0\", \"end-1c\")  # Get text from Text widget\n",
    "    if text.strip():\n",
    "        file_path = filedialog.asksaveasfilename(\n",
    "            defaultextension=\".mp3\",\n",
    "            filetypes=[(\"Audio Files\", \"*.mp3\"), (\"All Files\", \"*.*\")]\n",
    "        )\n",
    "        if file_path:\n",
    "            engine.save_to_file(text, file_path)\n",
    "            engine.runAndWait()\n",
    "            messagebox.showinfo(\"Success\", f\"Audio saved as {file_path}\")\n",
    "    else:\n",
    "        messagebox.showerror(\"Error\", \"Text box is empty. Please enter some text.\")\n",
    "\n",
    "# Create the main application window\n",
    "app = tk.Tk()\n",
    "app.title(\"Text to Speech Converter\")\n",
    "app.geometry(\"500x400\")\n",
    "\n",
    "\n",
    "# Add a label\n",
    "tk.Label(app, text=\"Enter Text Below:\", font=(\"Arial\", 14)).pack(pady=10)\n",
    "\n",
    "# Add a text input field\n",
    "text_input = tk.Text(app, height=10, width=50, font=(\"Arial\", 12))\n",
    "text_input.pack(pady=10)\n",
    "\n",
    "# Add buttons for TTS and saving audio\n",
    "button_frame = tk.Frame(app)\n",
    "button_frame.pack(pady=10)\n",
    "\n",
    "tk.Button(button_frame, text=\"Convert to Speech\", command=text_to_speech, font=(\"Arial\", 12), width=20).grid(row=0, column=0, padx=10)\n",
    "tk.Button(button_frame, text=\"Save as Audio File\", command=save_audio, font=(\"Arial\", 12), width=20).grid(row=0, column=1, padx=10)\n",
    "\n",
    "# Run the application\n",
    "app.mainloop()\n"
   ]
  },
  {
   "cell_type": "code",
   "execution_count": null,
   "id": "5dc264d8",
   "metadata": {},
   "outputs": [],
   "source": []
  }
 ],
 "metadata": {
  "kernelspec": {
   "display_name": "Python 3 (ipykernel)",
   "language": "python",
   "name": "python3"
  },
  "language_info": {
   "codemirror_mode": {
    "name": "ipython",
    "version": 3
   },
   "file_extension": ".py",
   "mimetype": "text/x-python",
   "name": "python",
   "nbconvert_exporter": "python",
   "pygments_lexer": "ipython3",
   "version": "3.11.4"
  }
 },
 "nbformat": 4,
 "nbformat_minor": 5
}
