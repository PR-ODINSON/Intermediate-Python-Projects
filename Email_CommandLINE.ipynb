{
 "cells": [
  {
   "cell_type": "code",
   "execution_count": 2,
   "id": "dc4595b8",
   "metadata": {},
   "outputs": [
    {
     "name": "stdout",
     "output_type": "stream",
     "text": [
      "\n",
      "=== Email Sending CLI Application ===\n",
      "Enter your email address: prithraj120@gmail.com\n",
      "Enter your email password: ········\n",
      "Enter recipient's email address: i.prv.2509@gmail.com\n",
      "Enter the subject of the email: i.prv.2509@gmail.com\n",
      "Enter the body of the email: yo!\n",
      "\n",
      "Sending email...\n",
      "Error: Authentication failed. Please check your email and password.\n"
     ]
    }
   ],
   "source": [
    "import smtplib\n",
    "import getpass\n",
    "from email.mime.text import MIMEText\n",
    "from email.mime.multipart import MIMEMultipart\n",
    "\n",
    "def send_email():\n",
    "    try:\n",
    "        # Get user credentials\n",
    "        print(\"\\n=== Email Sending CLI Application ===\")\n",
    "        sender_email = input(\"Enter your email address: \")\n",
    "        password = getpass.getpass(\"Enter your email password: \")\n",
    "\n",
    "        # Get recipient and email content details\n",
    "        recipient_email = input(\"Enter recipient's email address: \")\n",
    "        subject = input(\"Enter the subject of the email: \")\n",
    "        body = input(\"Enter the body of the email: \")\n",
    "\n",
    "        # Create email message\n",
    "        msg = MIMEMultipart()\n",
    "        msg['From'] = sender_email\n",
    "        msg['To'] = recipient_email\n",
    "        msg['Subject'] = subject\n",
    "\n",
    "        msg.attach(MIMEText(body, 'plain'))\n",
    "\n",
    "        # Connect to the email server and send the email\n",
    "        print(\"\\nSending email...\")\n",
    "        with smtplib.SMTP('smtp.gmail.com', 587) as server:\n",
    "            server.starttls()  # Upgrade the connection to secure\n",
    "            server.login(sender_email, password)  # Log in to the email account\n",
    "            server.send_message(msg)  # Send the email\n",
    "\n",
    "        print(\"Email sent successfully!\")\n",
    "\n",
    "    except smtplib.SMTPAuthenticationError:\n",
    "        print(\"Error: Authentication failed. Please check your email and password.\")\n",
    "    except smtplib.SMTPException as e:\n",
    "        print(f\"Error: An SMTP error occurred: {e}\")\n",
    "    except Exception as e:\n",
    "        print(f\"Error: {e}\")\n",
    "\n",
    "if __name__ == \"__main__\":\n",
    "    send_email()\n"
   ]
  },
  {
   "cell_type": "code",
   "execution_count": null,
   "id": "7043f5e8",
   "metadata": {},
   "outputs": [],
   "source": []
  }
 ],
 "metadata": {
  "kernelspec": {
   "display_name": "Python 3 (ipykernel)",
   "language": "python",
   "name": "python3"
  },
  "language_info": {
   "codemirror_mode": {
    "name": "ipython",
    "version": 3
   },
   "file_extension": ".py",
   "mimetype": "text/x-python",
   "name": "python",
   "nbconvert_exporter": "python",
   "pygments_lexer": "ipython3",
   "version": "3.11.4"
  }
 },
 "nbformat": 4,
 "nbformat_minor": 5
}
